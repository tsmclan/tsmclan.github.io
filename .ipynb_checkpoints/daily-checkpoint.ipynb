{
 "cells": [
  {
   "cell_type": "markdown",
   "metadata": {},
   "source": [
    "[![Binder](https://mybinder.org/badge_logo.svg)](https://mybinder.org/v2/gh/tsmclan/ct32-Notebooks.git/HEAD)\n",
    "\n",
    "![Why I love programming](images/programming.png)\n",
    "\n",
    "I enjoy programming so much that I stick with it for years, always learning and sharing\n",
    "new and better ways of using tools and packages. As long as I can persist doing this, accumulating by the time going, qualitative change will finally come out of quantitative change.\n",
    "\n",
    "* [How to Execute Jupyter Notebooks from GitHub](https://soshnikov.com/education/how-to-execute-notebooks-from-github/)\n",
    "\n",
    "[MyBinder.org](https://mybinder.org/) is a great project that allows you to create virtualized Jupyter Notebook environment from any GitHub repository. You just need to enter the URL, and Binder will create a container for you, and start Jupyter environment. Many repositories with Jupyter Notebooks include Launch Binder button to open the repository in Binder automatically."
   ]
  },
  {
   "cell_type": "markdown",
   "metadata": {},
   "source": [
    "* Build [MyBinder.org](https://mybinder.org/) and launch a repository for https://github.com/tsmclan/ct32-Notebooks.git"
   ]
  },
  {
   "cell_type": "markdown",
   "metadata": {},
   "source": [
    "# 1 运行环境\n",
    "包含OSX环境变量、conda、Jupyter配置等环境信息。参见[conda环境管理 - 知乎](https://zhuanlan.zhihu.com/p/654851691)"
   ]
  },
  {
   "cell_type": "code",
   "execution_count": 1,
   "metadata": {
    "ExecuteTime": {
     "end_time": "2024-03-15T06:50:52.264201Z",
     "start_time": "2024-03-15T06:50:52.259255Z"
    },
    "pycharm": {
     "is_executing": true
    }
   },
   "outputs": [
    {
     "name": "stdout",
     "output_type": "stream",
     "text": [
      "PATH = /Users/rchen/opt/anaconda3/bin:/Users/rchen/opt/anaconda3/condabin:/usr/local/opt/openssl@1.1/bin:/usr/local/opt/ncurses/bin:/usr/local/opt/icu4c/bin:/usr/local/opt/icu4c/sbin:/usr/local/Cellar/premake/4.4-beta5/bin:/usr/local/bin:/System/Cryptexes/App/usr/bin:/usr/bin:/bin:/usr/sbin:/sbin:/Library/TeX/texbin:/var/run/com.apple.security.cryptexd/codex.system/bootstrap/usr/local/bin:/var/run/com.apple.security.cryptexd/codex.system/bootstrap/usr/bin:/var/run/com.apple.security.cryptexd/codex.system/bootstrap/usr/appleinternal/bin\n",
      "CONDA_PYTHON_EXE = /Users/rchen/opt/anaconda3/bin/python\n",
      "CONDA_PROMPT_MODIFIER = (base) \n"
     ]
    }
   ],
   "source": [
    "# %env\n",
    "env = %env\n",
    "print(f\"PATH = {env['PATH']}\\nCONDA_PYTHON_EXE = {env['CONDA_PYTHON_EXE']}\\nCONDA_PROMPT_MODIFIER = {env['CONDA_PROMPT_MODIFIER']}\")"
   ]
  },
  {
   "cell_type": "code",
   "execution_count": 3,
   "metadata": {
    "ExecuteTime": {
     "end_time": "2024-03-15T06:50:58.848263Z",
     "start_time": "2024-03-15T06:50:57.172610Z"
    },
    "pycharm": {
     "is_executing": true
    }
   },
   "outputs": [
    {
     "name": "stdout",
     "output_type": "stream",
     "text": [
      "# conda environments:\n",
      "#\n",
      "base                  *  /Users/rchen/opt/anaconda3\n",
      "xai_tf212                /Users/rchen/opt/anaconda3/envs/xai_tf212\n",
      "\n",
      "\n",
      "Note: you may need to restart the kernel to use updated packages.\n",
      "\n",
      "     active environment : base\n",
      "    active env location : /Users/rchen/opt/anaconda3\n",
      "            shell level : 1\n",
      "       user config file : /Users/rchen/.condarc\n",
      " populated config files : /Users/rchen/.condarc\n",
      "          conda version : 24.1.2\n",
      "    conda-build version : 24.1.2\n",
      "         python version : 3.9.18.final.0\n",
      "                 solver : libmamba (default)\n",
      "       virtual packages : __archspec=1=skylake\n",
      "                          __conda=24.1.2=0\n",
      "                          __osx=10.16=0\n",
      "                          __unix=0=0\n",
      "       base environment : /Users/rchen/opt/anaconda3  (writable)\n",
      "      conda av data dir : /Users/rchen/opt/anaconda3/etc/conda\n",
      "  conda av metadata url : None\n",
      "           channel URLs : https://repo.anaconda.com/pkgs/main/osx-64\n",
      "                          https://repo.anaconda.com/pkgs/main/noarch\n",
      "                          https://repo.anaconda.com/pkgs/r/osx-64\n",
      "                          https://repo.anaconda.com/pkgs/r/noarch\n",
      "          package cache : /Users/rchen/opt/anaconda3/pkgs\n",
      "                          /Users/rchen/.conda/pkgs\n",
      "       envs directories : /Users/rchen/opt/anaconda3/envs\n",
      "                          /Users/rchen/.conda/envs\n",
      "               platform : osx-64\n",
      "             user-agent : conda/24.1.2 requests/2.31.0 CPython/3.9.18 Darwin/22.6.0 OSX/10.16 solver/libmamba conda-libmamba-solver/24.1.0 libmambapy/1.5.6\n",
      "                UID:GID : 501:20\n",
      "             netrc file : None\n",
      "           offline mode : False\n",
      "\n",
      "\n",
      "\n",
      "Note: you may need to restart the kernel to use updated packages.\n"
     ]
    }
   ],
   "source": [
    "%conda env list\n",
    "%conda info"
   ]
  },
  {
   "cell_type": "markdown",
   "metadata": {},
   "source": [
    "## Jupyter Server\n",
    "### conda环境里安装好ipykernel和Jupyter notebook\n",
    "\n",
    "    conda intall ipykernel\n",
    "    conda install jupyter\n"
   ]
  },
  {
   "cell_type": "code",
   "execution_count": 5,
   "metadata": {
    "ExecuteTime": {
     "end_time": "2024-03-15T06:51:19.019090Z",
     "start_time": "2024-03-15T06:51:05.265008Z"
    }
   },
   "outputs": [
    {
     "name": "stdout",
     "output_type": "stream",
     "text": [
      "# packages in environment at /Users/rchen/opt/anaconda3:\n",
      "#\n",
      "# Name                    Version                   Build  Channel\n",
      "ipykernel                 6.28.0           py39hecd8cb5_0  \n",
      "\n",
      "Note: you may need to restart the kernel to use updated packages.\n",
      "# packages in environment at /Users/rchen/opt/anaconda3:\n",
      "#\n",
      "# Name                    Version                   Build  Channel\n",
      "jupyter                   1.0.0            py39hecd8cb5_9  \n",
      "jupyter-contrib-core      0.4.2                    pypi_0    pypi\n",
      "jupyter-contrib-nbextensions 0.7.0                    pypi_0    pypi\n",
      "jupyter-highlight-selected-word 0.2.0                    pypi_0    pypi\n",
      "jupyter-lsp               2.2.4              pyhd8ed1ab_0    conda-forge\n",
      "jupyter-nbextensions-configurator 0.6.3                    pypi_0    pypi\n",
      "jupyter_client            7.4.9            py39hecd8cb5_0  \n",
      "jupyter_console           6.6.3            py39hecd8cb5_0  \n",
      "jupyter_core              5.5.0            py39hecd8cb5_0  \n",
      "jupyter_events            0.8.0            py39hecd8cb5_0  \n",
      "jupyter_server            2.10.0           py39hecd8cb5_0  \n",
      "jupyter_server_terminals  0.4.4            py39hecd8cb5_1  \n",
      "jupyterlab                4.1.4                    pypi_0    pypi\n",
      "jupyterlab-lsp            5.1.0                    pypi_0    pypi\n",
      "jupyterlab_pygments       0.1.2                      py_0  \n",
      "jupyterlab_server         2.25.1           py39hecd8cb5_0  \n",
      "jupyterlab_widgets        3.0.10           py39hecd8cb5_0  \n",
      "\n",
      "Note: you may need to restart the kernel to use updated packages.\n"
     ]
    }
   ],
   "source": [
    "%conda list ipykernel\n",
    "%conda list jupyter"
   ]
  },
  {
   "cell_type": "code",
   "execution_count": null,
   "metadata": {
    "ExecuteTime": {
     "end_time": "2024-03-15T06:51:19.070545Z",
     "start_time": "2024-03-15T06:51:19.070532Z"
    },
    "pycharm": {
     "is_executing": true
    }
   },
   "outputs": [],
   "source": [
    "%ls -l ~/.jupyter/jupyter_notebook*\n",
    "!jupyter kernelspec list"
   ]
  },
  {
   "cell_type": "markdown",
   "metadata": {},
   "source": [
    "参见[如何设置远程访问的Jupyter Notebook服务器-04（服务器篇） - 知乎](https://zhuanlan.zhihu.com/p/64524822)了解如何安装配置Jupyter Server，简称nbserver。它的配置文件有jupyter_notebook_config.py和jupyter_notebook_config.nbserver(中文)，粗略看两者的配置项相同。\n",
    "* jupyter_notebook_config.py设定\n",
    "\n",
    "    c.NotebookApp.port = 12306     #为远程访问提供的服务端口\n",
    "    c.NotebookApp.allow_remote_access = True\n",
    "    c.NotebookApp.open_browser = False\n",
    "    c.NotebookApp.password_required = True\n",
    "    c.NotebookApp.notebook_dir = '/Users/rchen/dev/ct32-Notebooks'\n",
    "    #c.NotebookApp.quit_button = True    #提供关闭nbserver的按钮\n"
   ]
  },
  {
   "cell_type": "markdown",
   "metadata": {},
   "source": [
    "### 开动服务器/客户端工作模式\n",
    "![Jupyter Server/Client](images/jupyter_server_client.png)\n",
    "1、终端执行命令启动nbserver：\n",
    "\n",
    "    % jupyter notebook --notebook-dir=/Users/rchen/dev/PyGProjects\n",
    "    % jupyter notebook --notebook-dir=/Users/rchen/dev/PyGProjects --no-browser --port=12306\n",
    "\n",
    "2、有四种方式在客户端上交互式执行nbserver的.ipynb文件中的代码：\n",
    "* webbrowser作为客户端：访问网页http://nbserver_ip:12306，其中nbserver_ip为nbserver的IP地址。网页打开选择的.ipynb文件后，在网页页面中的菜单里选择运行核：Kernel>>Change kernel>>xai_tf212(ipykernel)\n",
    "* SSH桥接+webbrowser作为客户端：（有待尝试）\n",
    "* 开发ipynb的pycharm作为客户端：对话框Settings>>Languages&Frameworks>>Jupyter>>Jupyter Server，设定Configured Server: 输入http://localhost:12306。在pycharm运行状态工具栏上可选择nbserver及其运行核。\n",
    "* SSH桥接+pycharm作为客户端：（有待尝试）"
   ]
  },
  {
   "cell_type": "markdown",
   "metadata": {},
   "source": [
    "# 2 使用技巧\n",
    "## 2.1 魔法命令\n",
    "针对一些不熟悉的魔法命令，可以选中命令词，按下shift+tab来查看帮助信息"
   ]
  },
  {
   "cell_type": "code",
   "execution_count": 1,
   "metadata": {},
   "outputs": [
    {
     "data": {
      "application/json": {
       "cell": {
        "!": "OSMagics",
        "HTML": "Other",
        "SVG": "Other",
        "bash": "Other",
        "capture": "ExecutionMagics",
        "code_wrap": "ExecutionMagics",
        "debug": "ExecutionMagics",
        "file": "Other",
        "html": "DisplayMagics",
        "javascript": "DisplayMagics",
        "js": "DisplayMagics",
        "latex": "DisplayMagics",
        "markdown": "DisplayMagics",
        "perl": "Other",
        "prun": "ExecutionMagics",
        "pypy": "Other",
        "python": "Other",
        "python2": "Other",
        "python3": "Other",
        "ruby": "Other",
        "script": "ScriptMagics",
        "sh": "Other",
        "svg": "DisplayMagics",
        "sx": "OSMagics",
        "system": "OSMagics",
        "time": "ExecutionMagics",
        "timeit": "ExecutionMagics",
        "writefile": "OSMagics"
       },
       "line": {
        "alias": "OSMagics",
        "alias_magic": "BasicMagics",
        "autoawait": "AsyncMagics",
        "autocall": "AutoMagics",
        "automagic": "AutoMagics",
        "autosave": "KernelMagics",
        "bookmark": "OSMagics",
        "cat": "Other",
        "cd": "OSMagics",
        "clear": "KernelMagics",
        "code_wrap": "ExecutionMagics",
        "colors": "BasicMagics",
        "conda": "PackagingMagics",
        "config": "ConfigMagics",
        "connect_info": "KernelMagics",
        "cp": "Other",
        "debug": "ExecutionMagics",
        "dhist": "OSMagics",
        "dirs": "OSMagics",
        "doctest_mode": "BasicMagics",
        "ed": "Other",
        "edit": "KernelMagics",
        "env": "OSMagics",
        "gui": "BasicMagics",
        "hist": "Other",
        "history": "HistoryMagics",
        "killbgscripts": "ScriptMagics",
        "ldir": "Other",
        "less": "KernelMagics",
        "lf": "Other",
        "lk": "Other",
        "ll": "Other",
        "load": "CodeMagics",
        "load_ext": "ExtensionMagics",
        "loadpy": "CodeMagics",
        "logoff": "LoggingMagics",
        "logon": "LoggingMagics",
        "logstart": "LoggingMagics",
        "logstate": "LoggingMagics",
        "logstop": "LoggingMagics",
        "ls": "Other",
        "lsmagic": "BasicMagics",
        "lx": "Other",
        "macro": "ExecutionMagics",
        "magic": "BasicMagics",
        "man": "KernelMagics",
        "matplotlib": "PylabMagics",
        "mkdir": "Other",
        "more": "KernelMagics",
        "mv": "Other",
        "notebook": "BasicMagics",
        "page": "BasicMagics",
        "pastebin": "CodeMagics",
        "pdb": "ExecutionMagics",
        "pdef": "NamespaceMagics",
        "pdoc": "NamespaceMagics",
        "pfile": "NamespaceMagics",
        "pinfo": "NamespaceMagics",
        "pinfo2": "NamespaceMagics",
        "pip": "PackagingMagics",
        "popd": "OSMagics",
        "pprint": "BasicMagics",
        "precision": "BasicMagics",
        "prun": "ExecutionMagics",
        "psearch": "NamespaceMagics",
        "psource": "NamespaceMagics",
        "pushd": "OSMagics",
        "pwd": "OSMagics",
        "pycat": "OSMagics",
        "pylab": "PylabMagics",
        "qtconsole": "KernelMagics",
        "quickref": "BasicMagics",
        "recall": "HistoryMagics",
        "rehashx": "OSMagics",
        "reload_ext": "ExtensionMagics",
        "rep": "Other",
        "rerun": "HistoryMagics",
        "reset": "NamespaceMagics",
        "reset_selective": "NamespaceMagics",
        "rm": "Other",
        "rmdir": "Other",
        "run": "ExecutionMagics",
        "save": "CodeMagics",
        "sc": "OSMagics",
        "set_env": "OSMagics",
        "store": "StoreMagics",
        "sx": "OSMagics",
        "system": "OSMagics",
        "tb": "ExecutionMagics",
        "time": "ExecutionMagics",
        "timeit": "ExecutionMagics",
        "unalias": "OSMagics",
        "unload_ext": "ExtensionMagics",
        "who": "NamespaceMagics",
        "who_ls": "NamespaceMagics",
        "whos": "NamespaceMagics",
        "xdel": "NamespaceMagics",
        "xmode": "BasicMagics"
       }
      },
      "text/plain": [
       "Available line magics:\n",
       "%alias  %alias_magic  %autoawait  %autocall  %automagic  %autosave  %bookmark  %cat  %cd  %clear  %code_wrap  %colors  %conda  %config  %connect_info  %cp  %debug  %dhist  %dirs  %doctest_mode  %ed  %edit  %env  %gui  %hist  %history  %killbgscripts  %ldir  %less  %lf  %lk  %ll  %load  %load_ext  %loadpy  %logoff  %logon  %logstart  %logstate  %logstop  %ls  %lsmagic  %lx  %macro  %magic  %man  %matplotlib  %mkdir  %more  %mv  %notebook  %page  %pastebin  %pdb  %pdef  %pdoc  %pfile  %pinfo  %pinfo2  %pip  %popd  %pprint  %precision  %prun  %psearch  %psource  %pushd  %pwd  %pycat  %pylab  %qtconsole  %quickref  %recall  %rehashx  %reload_ext  %rep  %rerun  %reset  %reset_selective  %rm  %rmdir  %run  %save  %sc  %set_env  %store  %sx  %system  %tb  %time  %timeit  %unalias  %unload_ext  %who  %who_ls  %whos  %xdel  %xmode\n",
       "\n",
       "Available cell magics:\n",
       "%%!  %%HTML  %%SVG  %%bash  %%capture  %%code_wrap  %%debug  %%file  %%html  %%javascript  %%js  %%latex  %%markdown  %%perl  %%prun  %%pypy  %%python  %%python2  %%python3  %%ruby  %%script  %%sh  %%svg  %%sx  %%system  %%time  %%timeit  %%writefile\n",
       "\n",
       "Automagic is ON, % prefix IS NOT needed for line magics."
      ]
     },
     "execution_count": 1,
     "metadata": {},
     "output_type": "execute_result"
    }
   ],
   "source": [
    "%lsmagic"
   ]
  },
  {
   "cell_type": "markdown",
   "metadata": {},
   "source": [
    "### 查看模块帮助信息\n",
    "import模块后，使用?加方法名就可以很方便的查看帮助文档"
   ]
  },
  {
   "cell_type": "code",
   "execution_count": 1,
   "metadata": {},
   "outputs": [],
   "source": [
    "import numpy as np\n",
    "?np.random.rand"
   ]
  },
  {
   "cell_type": "code",
   "execution_count": 2,
   "metadata": {
    "ExecuteTime": {
     "end_time": "2024-03-11T20:27:44.370486Z",
     "start_time": "2024-03-11T20:27:38.239195Z"
    },
    "scrolled": true
   },
   "outputs": [
    {
     "name": "stdout",
     "output_type": "stream",
     "text": [
      "Object `tg.data.classes` not found.\n"
     ]
    }
   ],
   "source": [
    "import torch_geometric as tg\n",
    "?tg.data.classes"
   ]
  },
  {
   "cell_type": "markdown",
   "metadata": {},
   "source": [
    "### 保存单元格内容到文件和在单元格中显示文件内容\n",
    "使用%%writefile uname.py 可以将单元格中的内容保存到外部的文件uname.py中；使用%pycat uname.py，以弹出框的形式显示文件uname.py的内容。"
   ]
  },
  {
   "cell_type": "code",
   "execution_count": 4,
   "metadata": {},
   "outputs": [
    {
     "name": "stdout",
     "output_type": "stream",
     "text": [
      "Writing uname.py\n"
     ]
    }
   ],
   "source": [
    "%%writefile uname.py\n",
    "import numpy as np"
   ]
  },
  {
   "cell_type": "code",
   "execution_count": 9,
   "metadata": {},
   "outputs": [
    {
     "name": "stdout",
     "output_type": "stream",
     "text": [
      "-rw-r--r--  1 rchen  staff  19  3  9 09:12 uname.py\r\n"
     ]
    }
   ],
   "source": [
    "!ls -l uname.py\n",
    "%pycat uname.py"
   ]
  },
  {
   "cell_type": "markdown",
   "metadata": {},
   "source": [
    "# 3 可视化\n",
    "[Altair](https://github.com/altair-viz/altair)是一个专为Python编写的可视化软件包，它能让数据科学家更多地关注数据本身和其内在的联系。"
   ]
  },
  {
   "cell_type": "code",
   "execution_count": null,
   "metadata": {},
   "outputs": [],
   "source": [
    "import altair as alt\n",
    "alt.Chart(cars).mark_tick().encode(\n",
    "x='Miles_per_Gallon'\n",
    ")"
   ]
  }
 ],
 "metadata": {
  "kernelspec": {
   "display_name": "base(ipykernel)",
   "language": "python",
   "name": "base"
  },
  "language_info": {
   "codemirror_mode": {
    "name": "ipython",
    "version": 3
   },
   "file_extension": ".py",
   "mimetype": "text/x-python",
   "name": "python",
   "nbconvert_exporter": "python",
   "pygments_lexer": "ipython3",
   "version": "3.9.18"
  },
  "toc": {
   "base_numbering": 1,
   "nav_menu": {},
   "number_sections": true,
   "sideBar": true,
   "skip_h1_title": false,
   "title_cell": "Table of Contents",
   "title_sidebar": "Contents",
   "toc_cell": false,
   "toc_position": {},
   "toc_section_display": true,
   "toc_window_display": false
  },
  "varInspector": {
   "cols": {
    "lenName": 16,
    "lenType": 16,
    "lenVar": 40
   },
   "kernels_config": {
    "python": {
     "delete_cmd_postfix": "",
     "delete_cmd_prefix": "del ",
     "library": "var_list.py",
     "varRefreshCmd": "print(var_dic_list())"
    },
    "r": {
     "delete_cmd_postfix": ") ",
     "delete_cmd_prefix": "rm(",
     "library": "var_list.r",
     "varRefreshCmd": "cat(var_dic_list()) "
    }
   },
   "types_to_exclude": [
    "module",
    "function",
    "builtin_function_or_method",
    "instance",
    "_Feature"
   ],
   "window_display": false
  }
 },
 "nbformat": 4,
 "nbformat_minor": 2
}
