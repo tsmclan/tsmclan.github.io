{
 "cells": [
  {
   "cell_type": "markdown",
   "source": [
    "# 1 N体问题的背景\n",
    "N体问题是指找出已知初始位置r、速度v和质量m的多个物体在经典力学情况下的后续运动。\n",
    "![9大行星](universe.jpg)"
   ],
   "metadata": {
    "collapsed": false
   }
  },
  {
   "cell_type": "code",
   "execution_count": 44,
   "outputs": [
    {
     "name": "stdout",
     "output_type": "stream",
     "text": [
      "['SUN', 'MERCURY', 'VENUS', 'EARTH', 'MARS', 'JUPITER', 'SATURN', 'URANUS', 'NEPTUNE', 'MOON']\n"
     ]
    }
   ],
   "source": [
    "from n_body.universe import Universe\n",
    "print(Universe.PLANETS)"
   ],
   "metadata": {
    "collapsed": false
   }
  },
  {
   "cell_type": "markdown",
   "source": [
    "# 2 设计思路 - 类图\n",
    "下面的类图给出了n体模拟的设计思路：\n",
    "![Vector_Body_Universe](Vector_Body_Universe.png)"
   ],
   "metadata": {
    "collapsed": false
   }
  },
  {
   "cell_type": "markdown",
   "source": [
    "## 2.1 理解Vector类"
   ],
   "metadata": {
    "collapsed": false
   }
  },
  {
   "cell_type": "code",
   "execution_count": 1,
   "outputs": [
    {
     "name": "stdout",
     "output_type": "stream",
     "text": [
      "x + y    = [6.0, 4.0, 7.0, 5.0]\n",
      "10x      = [10.0, 20.0, 30.0, 40.0]\n",
      "|x|      = 5.477225575051661\n",
      "<x, y>   = 25.0\n",
      "|x - y|  = 5.0990195135927845\n"
     ]
    }
   ],
   "source": [
    "from n_body.vector import Vector\n",
    "x = Vector([1.0, 2.0, 3.0, 4.0]) #视为坐标点向量\n",
    "y = Vector([5.0, 2.0, 4.0, 1.0]) #另一个坐标点向量\n",
    "print('x + y    = ' + str(x + y))\n",
    "print('10x      = ' + str(x.scale(10.0)))\n",
    "print('|x|      = ' + str(abs(x)))\n",
    "print('<x, y>   = ' + str(x.dot(y)))\n",
    "print('|x - y|  = ' + str(abs(x - y)))"
   ],
   "metadata": {
    "collapsed": false
   }
  },
  {
   "cell_type": "markdown",
   "source": [
    "## 2.2 理解Body类和Planet类"
   ],
   "metadata": {
    "collapsed": false
   }
  },
  {
   "cell_type": "code",
   "execution_count": 36,
   "outputs": [
    {
     "name": "stdout",
     "output_type": "stream",
     "text": [
      "Body([1.00e+04,4.50e+10], [5.00e-01,0.00e+00], 7.35e+19, 1.74e+06)\n",
      "Body([0.00e+00,4.50e+10], [1.00e+04,0.00e+00], 1.50e+30, 5.00e+10)\n",
      "[7.353675e+31, 0.0]\n",
      "[-7.353674999999999e+31, 0.0]\n",
      "Body([3.04e+04,4.50e+10], [1.01e+04,0.00e+00], 1.50e+30, 5.00e+10)\n"
     ]
    }
   ],
   "source": [
    "from n_body.body import Body, Planet\n",
    "moon = Body([1.0e04, 4.5e10], [0.5e00, 0.0e00], Planet.MOON.value)\n",
    "body = Body([0.0e00, 4.5e10], [1.0e04, 0.0e00], (1.5e30, 5.0e10))\n",
    "print('{}\\n{}'.format(moon, body))\n",
    "\n",
    "f = [Vector([0 ,0])] * 2\n",
    "f[0] = f[0] + body.force_from(moon)\n",
    "f[1] = f[1] + moon.force_from(body)\n",
    "print('{}\\n{}'.format(f[0], f[1]))\n",
    "body.move(f[0], 3) # in three seconds\n",
    "print(body)"
   ],
   "metadata": {
    "collapsed": false
   }
  },
  {
   "cell_type": "markdown",
   "source": [
    "## 2.3 理解UniBase类(2bodytiny)"
   ],
   "metadata": {
    "collapsed": false
   }
  },
  {
   "cell_type": "code",
   "execution_count": 11,
   "outputs": [
    {
     "name": "stdout",
     "output_type": "stream",
     "text": [
      "Universe['Body([0.00e+00,4.50e+10], [1.00e+04,0.00e+00], 1.50e+30, 5.00e+10)', 'Body([1.00e+04,0.00e+00], [1.50e+30,5.00e+10], 0.00e+00, -4.50e+10)']\n"
     ]
    }
   ],
   "source": [
    "from n_body.universe import UniBase\n",
    "uni = UniBase(2, [0.0e00, 4.5e10, 1.0e04, 0.0e00, 1.5e30, 5.0e10, 0.0e00, -4.5e10, -1.0e04, 0.0e00, 1.5e30, 5.0e10])\n",
    "print(uni)"
   ],
   "metadata": {
    "collapsed": false
   }
  },
  {
   "cell_type": "markdown",
   "source": [
    "## 2.4 理解Universe类(2Planet)"
   ],
   "metadata": {
    "collapsed": false
   }
  },
  {
   "cell_type": "code",
   "execution_count": 7,
   "outputs": [
    {
     "name": "stdout",
     "output_type": "stream",
     "text": [
      "URANUS (8.686e+25, 25559000.0)\n",
      "Universe6['SATURN', 'URANUS']\n",
      "Universe6['Body([0.00e+00,4.50e+10], [1.00e+04,0.00e+00], 5.69e+26, 6.03e+07)', 'Body([1.00e+04,0.00e+00], [1.00e+04,4.50e+10], 8.69e+25, 2.56e+07)']\n"
     ]
    }
   ],
   "source": [
    "from n_body.body import Planet\n",
    "from n_body.universe import Universe\n",
    "id = 1120230306 % 10 + 1\n",
    "print(eval('Planet.{}.name'.format(Universe.PLANETS[id])), eval('Planet.{}.value'.format(Universe.PLANETS[id])))\n",
    "\n",
    "uni = Universe(2, id, [0.0e00, 4.5e10, 1.0e04, 0.0e00, 1.0e04, 4.5e10, 0.5e00, 0.0e00])\n",
    "print(uni)\n",
    "print(uni.str())"
   ],
   "metadata": {
    "collapsed": false
   }
  },
  {
   "cell_type": "code",
   "execution_count": 8,
   "outputs": [
    {
     "name": "stdout",
     "output_type": "stream",
     "text": [
      "Universe6['Body([1.20e+05,4.50e+10], [1.00e+04,-3.43e-05], 5.69e+26, 6.03e+07)', 'Body([1.30e+05,5.40e+11], [1.00e+04,4.50e+10], 8.69e+25, 2.56e+07)']\n"
     ]
    }
   ],
   "source": [
    "uni.increase_time(12)\n",
    "print(uni.str())"
   ],
   "metadata": {
    "collapsed": false
   }
  },
  {
   "cell_type": "markdown",
   "source": [
    "# 3 2Planet模拟"
   ],
   "metadata": {
    "collapsed": false
   }
  },
  {
   "cell_type": "code",
   "execution_count": 46,
   "outputs": [],
   "source": [
    "from n_body.universe import Universe\n",
    "# Simulating two bodies for fixed steps\n",
    "def simulate(steps, i_th, r_v_list=[0.0e00, 4.5e10, 1.0e04, 1.0e01, 1.0e04, 2.5e10, 2.5e00, 2.0e01], dt=12):\n",
    "    uni = Universe(2, i_th, r_v_list)\n",
    "    coords = dict.fromkeys([str(_i) for _i in range(uni.n)], [])\n",
    "    for i in range(steps):\n",
    "        uni.increase_time(dt)\n",
    "        for n in range(uni.n):\n",
    "            coords[str(n)].append(uni.bodies[n]._r)\n",
    "    return coords\n",
    "\n",
    "# Output a brief description of coordinates returned by simulates(steps, i_th, ...)\n",
    "def print_coordinates(coords):\n",
    "    for k in coords.keys():\n",
    "        print('Body{}({}, {}, ..., {})'.format(k, coords[k][0].str(), coords[k][1].str(), coords[k][-1].str()))\n",
    "        # print('Body{}{}'.format(k, coords[k][0].str()))"
   ],
   "metadata": {
    "collapsed": false
   }
  },
  {
   "cell_type": "code",
   "execution_count": 47,
   "outputs": [
    {
     "name": "stdout",
     "output_type": "stream",
     "text": [
      "Body0([1.20e+05,4.50e+10], [1.30e+05,3.00e+11], ..., [1.21e+06,3.00e+12])\n",
      "Body1([1.20e+05,4.50e+10], [1.30e+05,3.00e+11], ..., [1.21e+06,3.00e+12])\n"
     ]
    }
   ],
   "source": [
    "coords = simulate(10, 10)\n",
    "print_coordinates(coords)"
   ],
   "metadata": {
    "collapsed": false
   }
  },
  {
   "cell_type": "markdown",
   "source": [
    "# 4 N体模拟"
   ],
   "metadata": {
    "collapsed": false
   }
  },
  {
   "cell_type": "code",
   "execution_count": null,
   "outputs": [],
   "source": [
    "import numpy as np\n",
    "from matplotlib import pyplot as plt\n",
    "from matplotlib import animation\n",
    "from matplotlib.patches import Ellipse, Circle\n",
    "plt.xscale"
   ],
   "metadata": {
    "collapsed": false
   }
  },
  {
   "cell_type": "code",
   "execution_count": 43,
   "outputs": [],
   "source": [
    "from n_body.body import Body\n",
    "\n",
    "body = Body([.48,.86], [.015,.023], 0.01, 0.5)\n",
    "\n",
    "def update_body(num, centroids, body, _circle):\n",
    "    _circle.set_color('gray')\n",
    "    # Update ball position and draw it there.\n",
    "    centroids.append(body._r)\n",
    "    vx,vy = body._v\n",
    "    if abs(body._r[0] + body._v[0]) + radius > 1.0:\n",
    "        vx = -body._v[0]\n",
    "    if abs(body._r[1] + body._v[1]) + radius > 1.0:\n",
    "        vy = -body._v[1]\n",
    "    body._r = (body._r[0]+vx, body._r[1]+vy)\n",
    "    _circle.set_center(body._r)\n",
    "    _circle.set_color('blue')\n",
    "    return _circle,"
   ],
   "metadata": {
    "collapsed": false
   }
  },
  {
   "cell_type": "code",
   "execution_count": 44,
   "outputs": [
    {
     "ename": "AttributeError",
     "evalue": "'Body' object has no attribute '_radius'",
     "output_type": "error",
     "traceback": [
      "\u001B[0;31m---------------------------------------------------------------------------\u001B[0m",
      "\u001B[0;31mAttributeError\u001B[0m                            Traceback (most recent call last)",
      "Cell \u001B[0;32mIn[44], line 12\u001B[0m\n\u001B[1;32m     10\u001B[0m l, \u001B[38;5;241m=\u001B[39m plt\u001B[38;5;241m.\u001B[39mplot([], [], \u001B[38;5;124m'\u001B[39m\u001B[38;5;124mr-\u001B[39m\u001B[38;5;124m'\u001B[39m)\n\u001B[1;32m     11\u001B[0m centroids \u001B[38;5;241m=\u001B[39m []\n\u001B[0;32m---> 12\u001B[0m _circle \u001B[38;5;241m=\u001B[39m plt\u001B[38;5;241m.\u001B[39mCircle(body\u001B[38;5;241m.\u001B[39m_r, \u001B[43mbody\u001B[49m\u001B[38;5;241;43m.\u001B[39;49m\u001B[43m_radius\u001B[49m, color\u001B[38;5;241m=\u001B[39m\u001B[38;5;124m'\u001B[39m\u001B[38;5;124mb\u001B[39m\u001B[38;5;124m'\u001B[39m, linewidth\u001B[38;5;241m=\u001B[39m\u001B[38;5;241m0\u001B[39m)\n\u001B[1;32m     13\u001B[0m plt\u001B[38;5;241m.\u001B[39mxlim(\u001B[38;5;241m0\u001B[39m, \u001B[38;5;241m1\u001B[39m)\n\u001B[1;32m     14\u001B[0m plt\u001B[38;5;241m.\u001B[39mylim(\u001B[38;5;241m0\u001B[39m, \u001B[38;5;241m1\u001B[39m)\n",
      "\u001B[0;31mAttributeError\u001B[0m: 'Body' object has no attribute '_radius'"
     ]
    },
    {
     "data": {
      "text/plain": "<Figure size 640x480 with 1 Axes>",
      "image/png": "[encoded data removed]"
     },
     "metadata": {},
     "output_type": "display_data"
    }
   ],
   "source": [
    "import matplotlib.pyplot as plt\n",
    "import matplotlib.animation as animation\n",
    "\n",
    "fig1 = plt.figure()\n",
    "\n",
    "# Fixing random state for reproducibility\n",
    "np.random.seed(19680801)\n",
    "\n",
    "data = np.random.rand(2, 25)\n",
    "l, = plt.plot([], [], 'r-')\n",
    "centroids = []\n",
    "_circle = plt.Circle(body._r, body._radius, color='b', linewidth=0)\n",
    "plt.xlim(0, 1)\n",
    "plt.ylim(0, 1)\n",
    "plt.xlabel('x')\n",
    "plt.title('test')\n",
    "line_ani = animation.FuncAnimation(fig1, update_body, 25, fargs=(centroids, body, _circle),\n",
    "                                   interval=50, blit=True)"
   ],
   "metadata": {
    "collapsed": false
   }
  },
  {
   "cell_type": "code",
   "execution_count": null,
   "outputs": [],
   "source": [],
   "metadata": {
    "collapsed": false
   }
  }
 ],
 "metadata": {
  "kernelspec": {
   "display_name": "Python 3",
   "language": "python",
   "name": "python3"
  },
  "language_info": {
   "codemirror_mode": {
    "name": "ipython",
    "version": 2
   },
   "file_extension": ".py",
   "mimetype": "text/x-python",
   "name": "python",
   "nbconvert_exporter": "python",
   "pygments_lexer": "ipython2",
   "version": "2.7.6"
  }
 },
 "nbformat": 4,
 "nbformat_minor": 0
}
